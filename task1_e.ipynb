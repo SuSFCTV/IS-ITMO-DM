{
 "cells": [
  {
   "cell_type": "code",
   "execution_count": 1,
   "metadata": {},
   "outputs": [],
   "source": [
    "import networkx as nx\n",
    "import numpy as np\n",
    "import matplotlib.pyplot as plt"
   ]
  },
  {
   "cell_type": "code",
   "execution_count": 2,
   "metadata": {},
   "outputs": [],
   "source": [
    "# Input\n",
    "V = 42\n",
    "E = 87\n",
    "fin_country = open(\"europe.txt\")\n",
    "fin_edges = open(\"distances.txt\")\n",
    "country = []  # список стран\n",
    "edges = []  # список рёбер\n",
    "G = nx.Graph()  # граф\n",
    "matrix = [[] for i in range(V)]  # матрица смежности"
   ]
  },
  {
   "cell_type": "code",
   "execution_count": 3,
   "metadata": {},
   "outputs": [],
   "source": [
    "for i in range(V):\n",
    "    pars_one = fin_country.readline().split('.')\n",
    "    num, name = pars_one[0], pars_one[1][:-1]\n",
    "    country.append(name)\n",
    "\n",
    "for i in range(E):\n",
    "    pars_two = fin_edges.readline().split()\n",
    "    a, b = int(pars_two[0]), int(pars_two[1])\n",
    "    matrix[a].append(b)\n",
    "    matrix[b].append(a)\n",
    "    edges.append([a, b])"
   ]
  },
  {
   "cell_type": "code",
   "execution_count": 4,
   "metadata": {},
   "outputs": [],
   "source": [
    "# создадим граф\n",
    "for i in range(E):\n",
    "    a, b = edges[i]\n",
    "    G.add_edge(country[a], country[b])"
   ]
  },
  {
   "cell_type": "code",
   "execution_count": 7,
   "metadata": {},
   "outputs": [
    {
     "name": "stdout",
     "output_type": "stream",
     "text": [
      "Clique  1 ['Serbia', 'Montenegro', 'BosniaAndHerzegovina', 'Croatia']\n",
      "Clique  2 ['Belarus', 'Russia', 'Latvia', 'Lithuania']\n",
      "Clique  3 ['Belarus', 'Russia', 'Poland', 'Ukraine']\n",
      "Clique  4 ['Belarus', 'Russia', 'Poland', 'Lithuania']\n",
      "Clique  5 ['Germany', 'Belgium', 'France', 'Luxembiurg']\n"
     ]
    }
   ],
   "source": [
    "# Найдём все клики которые (4-ёх вершинные и больше)\n",
    "cliques = [clique for clique in nx.find_cliques(G) if len(clique) > 3]\n",
    "с = 0\n",
    "for clique in cliques:\n",
    "    с += 1\n",
    "    print(\"Clique \", с, clique)"
   ]
  },
  {
   "cell_type": "code",
   "execution_count": null,
   "metadata": {},
   "outputs": [],
   "source": []
  }
 ],
 "metadata": {
  "kernelspec": {
   "display_name": "Python 3",
   "language": "python",
   "name": "python3"
  },
  "language_info": {
   "codemirror_mode": {
    "name": "ipython",
    "version": 3
   },
   "file_extension": ".py",
   "mimetype": "text/x-python",
   "name": "python",
   "nbconvert_exporter": "python",
   "pygments_lexer": "ipython3",
   "version": "3.7.6"
  }
 },
 "nbformat": 4,
 "nbformat_minor": 4
}
