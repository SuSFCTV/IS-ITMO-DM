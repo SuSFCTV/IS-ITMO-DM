{
 "cells": [
  {
   "cell_type": "code",
   "execution_count": 4,
   "metadata": {},
   "outputs": [],
   "source": [
    "import networkx as nx\n",
    "import numpy as np\n",
    "import matplotlib.pyplot as plt\n"
   ]
  },
  {
   "cell_type": "code",
   "execution_count": 5,
   "metadata": {},
   "outputs": [],
   "source": [
    "V = 42\n",
    "E = 87\n",
    "read_country = open(\"europe.txt\")\n",
    "read_edges = open(\"dist.txt\")\n",
    "country = []  \n",
    "edges = []  \n",
    "G = nx.Graph()  \n",
    "matrix = [[0] * V for i in range(V)]  \n",
    "for i in range(V):\n",
    "    pars_first = read_country.readline().split('.')\n",
    "    if i != V - 1:\n",
    "        num, name = pars_first[0], pars_first[1][:-1]\n",
    "    else:\n",
    "        num, name = pars_first[0], pars_first[1]\n",
    "    country.append(name)\n",
    "\n",
    "for i in range(E):\n",
    "    pars_sec = read_edges.readline().split()\n",
    "    a, b = int(pars_sec[0]), int(pars_sec[1])\n",
    "    matrix[a][b] = matrix[b][a] = 1\n",
    "    edges.append([a, b])"
   ]
  },
  {
   "cell_type": "code",
   "execution_count": 6,
   "metadata": {
    "scrolled": false
   },
   "outputs": [
    {
     "name": "stdout",
     "output_type": "stream",
     "text": [
      "( Austria ---> Italy), ( Italy ---> SanMarino), ( SanMarino ---> Italy), ( Italy ---> Vatican), ( Vatican ---> Italy), ( Italy ---> France), ( France ---> Monaco), ( Monaco ---> France), ( France ---> Spain), ( Spain ---> Portugal), ( Portugal ---> Spain), ( Spain ---> Andorra), ( Andorra ---> France), ( France ---> Luxembiurg), ( Luxembiurg ---> Belgium), ( Belgium ---> Netherlands), ( Netherlands ---> Germany), ( Germany ---> Switzerland), ( Switzerland ---> Italy), ( Italy ---> Slovenia), ( Slovenia ---> Croatia), ( Croatia ---> Serbia), ( Serbia ---> Montenegro), ( Montenegro ---> Kosovo), ( Kosovo ---> Serbia), ( Serbia ---> Romania), ( Romania ---> Moldova), ( Moldova ---> Ukraine), ( Ukraine ---> Russia), ( Russia ---> Finland), ( Finland ---> Nordway), ( Nordway ---> Finland), ( Finland ---> Sweden), ( Sweden ---> Nordway), ( Nordway ---> Russia), ( Russia ---> Poland), ( Poland ---> Ukraine), ( Ukraine ---> Belarus), ( Belarus ---> Poland), ( Poland ---> Lithuania), ( Lithuania ---> Russia), ( Russia ---> Latvia), ( Latvia ---> Lithuania), ( Lithuania ---> Belarus), ( Belarus ---> Russia), ( Russia ---> Estonia), ( Estonia ---> Latvia), ( Latvia ---> Belarus), ( Belarus ---> Poland), ( Poland ---> Slovakia), ( Slovakia ---> Ukraine), ( Ukraine ---> Romania), ( Romania ---> Bulgaria), ( Bulgaria ---> Serbia), ( Serbia ---> BosniaAndHerzegovina), ( BosniaAndHerzegovina ---> Montenegro), ( Montenegro ---> BosniaAndHerzegovina), ( BosniaAndHerzegovina ---> Croatia), ( Croatia ---> Montenegro), ( Montenegro ---> Albania), ( Albania ---> Kosovo), ( Kosovo ---> Macedonia), ( Macedonia ---> Bulgaria), ( Bulgaria ---> Turkey), ( Turkey ---> Greece), ( Greece ---> Macedonia), ( Macedonia ---> Bulgaria), ( Bulgaria ---> Greece), ( Greece ---> Albania), ( Albania ---> Macedonia), ( Macedonia ---> Serbia), ( Serbia ---> Hungray), ( Hungray ---> Slovenia), ( Slovenia ---> Austria), ( Austria ---> Switzerland), ( Switzerland ---> France), ( France ---> Luxembiurg), ( Luxembiurg ---> Germany), ( Germany ---> Denmark), ( Denmark ---> Germany), ( Germany ---> France), ( France ---> Belgium), ( Belgium ---> Germany), ( Germany ---> Poland), ( Poland ---> CzechRepublic), ( CzechRepublic ---> Slovakia), ( Slovakia ---> Austria), ( Austria ---> Switzerland), ( Switzerland ---> Liechtenstein), ( Liechtenstein ---> Austria), ( Austria ---> Slovakia), ( Slovakia ---> Hungray), ( Hungray ---> Ukraine), ( Ukraine ---> Romania), ( Romania ---> Hungray), ( Hungray ---> Croatia), ( Croatia ---> Hungray), ( Hungray ---> Austria), ( Austria ---> Germany), ( Germany ---> CzechRepublic), ( CzechRepublic ---> Austria), "
     ]
    }
   ],
   "source": [
    "for i in range(E):\n",
    "    a, b = edges[i]\n",
    "    G.add_edge(country[a], country[b])\n",
    "\n",
    "arr = list(nx.eulerian_circuit(nx.eulerize(G)))\n",
    "for i in arr:\n",
    "    u1, u2 = i\n",
    "    print('(', u1, '--->', u2, end='), ')"
   ]
  },
  {
   "cell_type": "code",
   "execution_count": null,
   "metadata": {},
   "outputs": [],
   "source": []
  }
 ],
 "metadata": {
  "kernelspec": {
   "display_name": "Python 3",
   "language": "python",
   "name": "python3"
  },
  "language_info": {
   "codemirror_mode": {
    "name": "ipython",
    "version": 3
   },
   "file_extension": ".py",
   "mimetype": "text/x-python",
   "name": "python",
   "nbconvert_exporter": "python",
   "pygments_lexer": "ipython3",
   "version": "3.7.6"
  }
 },
 "nbformat": 4,
 "nbformat_minor": 4
}
